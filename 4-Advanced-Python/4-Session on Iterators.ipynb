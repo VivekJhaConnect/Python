{
 "cells": [
  {
   "cell_type": "markdown",
   "metadata": {},
   "source": [
    "What are iterators\n",
    "What are iterables\n",
    "How for loop works in Python?\n",
    "Making your own for loop\n",
    "Create your own range function\n",
    "Practical example to use iterator\n"
   ]
  },
  {
   "cell_type": "markdown",
   "metadata": {},
   "source": []
  }
 ],
 "metadata": {
  "language_info": {
   "name": "python"
  }
 },
 "nbformat": 4,
 "nbformat_minor": 2
}
