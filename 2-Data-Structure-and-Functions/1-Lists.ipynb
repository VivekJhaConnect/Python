{
 "cells": [
  {
   "cell_type": "markdown",
   "metadata": {},
   "source": [
    "- Introduction\n",
    "- Array vs List\n",
    "- How lists are stored in a memory\n",
    "- Characteristics of Python List\n",
    "- Code Example of Lists\n",
    " - Create and access a list\n",
    " - append(), extend(), insert()\n",
    " - Edit items in a list\n",
    " - Deleting items from a list\n",
    " - Arithmetic, membership and loop operations on a List\n",
    " - Various List functions\n",
    " - List comprehension\n",
    " - 2 Ways to traverse a list\n",
    " - Zip() function\n",
    " - Python List can store any kind of objects\n",
    "- Disadvantages of Python list\n"
   ]
  },
  {
   "cell_type": "markdown",
   "metadata": {},
   "source": [
    "#### Sort a List in Descending Order"
   ]
  },
  {
   "cell_type": "code",
   "execution_count": 1,
   "metadata": {},
   "outputs": [
    {
     "name": "stdout",
     "output_type": "stream",
     "text": [
      "[8, 7, 7, 7, 6, 6, 5, 5, 4, 4, 3, 3, 2]\n"
     ]
    }
   ],
   "source": [
    "list1 = [4,5,6,7,8,3,3,2,4,5,6,7,7]\n",
    "list1.sort(reverse=True)\n",
    "print(list1)"
   ]
  },
  {
   "cell_type": "code",
   "execution_count": 2,
   "metadata": {},
   "outputs": [
    {
     "name": "stdout",
     "output_type": "stream",
     "text": [
      "None\n"
     ]
    }
   ],
   "source": [
    "# You can not get the return after shoring complete\n",
    "list2 = list1.sort(reverse=True)\n",
    "print(list2)"
   ]
  }
 ],
 "metadata": {
  "kernelspec": {
   "display_name": "venv",
   "language": "python",
   "name": "python3"
  },
  "language_info": {
   "codemirror_mode": {
    "name": "ipython",
    "version": 3
   },
   "file_extension": ".py",
   "mimetype": "text/x-python",
   "name": "python",
   "nbconvert_exporter": "python",
   "pygments_lexer": "ipython3",
   "version": "3.12.3"
  }
 },
 "nbformat": 4,
 "nbformat_minor": 2
}
