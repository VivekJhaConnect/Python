{
 "cells": [
  {
   "cell_type": "markdown",
   "metadata": {},
   "source": [
    "- Introduction\n",
    "- Array vs List\n",
    "- How lists are stored in a memory\n",
    "- Characteristics of Python List\n",
    "- Code Example of Lists\n",
    " - Create and access a list\n",
    " - append(), extend(), insert()\n",
    " - Edit items in a list\n",
    " - Deleting items from a list\n",
    " - Arithmetic, membership and loop operations on a List\n",
    " - Various List functions\n",
    " - List comprehension\n",
    " - 2 Ways to traverse a list\n",
    " - Zip() function\n",
    " - Python List can store any kind of objects\n",
    "- Disadvantages of Python list\n"
   ]
  },
  {
   "cell_type": "markdown",
   "metadata": {},
   "source": []
  }
 ],
 "metadata": {
  "language_info": {
   "name": "python"
  }
 },
 "nbformat": 4,
 "nbformat_minor": 2
}
