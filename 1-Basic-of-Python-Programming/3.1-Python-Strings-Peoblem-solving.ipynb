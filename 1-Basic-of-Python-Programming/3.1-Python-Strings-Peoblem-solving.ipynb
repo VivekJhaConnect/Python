{
 "cells": [
  {
   "cell_type": "markdown",
   "metadata": {},
   "source": [
    "### Most Frequent in a String"
   ]
  },
  {
   "cell_type": "code",
   "execution_count": 3,
   "metadata": {},
   "outputs": [
    {
     "name": "stdout",
     "output_type": "stream",
     "text": [
      "Ths ,pist frequebt letter in fecklessness is 's'\n"
     ]
    }
   ],
   "source": [
    "a = 'fecklessness'\n",
    "\n",
    "most_frequent = max(a, key=a.count) \n",
    "print(f\"Ths most frequebt letter in {a} is '{most_frequent}'\")"
   ]
  },
  {
   "cell_type": "code",
   "execution_count": 4,
   "metadata": {},
   "outputs": [
    {
     "name": "stdout",
     "output_type": "stream",
     "text": [
      "[('s', 4)]\n"
     ]
    }
   ],
   "source": [
    "import collections\n",
    "\n",
    "a = 'fecklessness'\n",
    "\n",
    "print(collections.Counter(a).most_common(1))"
   ]
  },
  {
   "cell_type": "code",
   "execution_count": null,
   "metadata": {},
   "outputs": [],
   "source": []
  }
 ],
 "metadata": {
  "kernelspec": {
   "display_name": "venv",
   "language": "python",
   "name": "python3"
  },
  "language_info": {
   "codemirror_mode": {
    "name": "ipython",
    "version": 3
   },
   "file_extension": ".py",
   "mimetype": "text/x-python",
   "name": "python",
   "nbconvert_exporter": "python",
   "pygments_lexer": "ipython3",
   "version": "3.12.3"
  }
 },
 "nbformat": 4,
 "nbformat_minor": 2
}
